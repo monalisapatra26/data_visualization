{
 "cells": [
  {
   "cell_type": "markdown",
   "id": "07a408cd",
   "metadata": {},
   "source": [
    "Let us consider a dataset consisting of runs scored by Sachin and Dravid and team India across a subset of matches. The data set covers 15 matches. Let us try and answer a few questions"
   ]
  },
  {
   "cell_type": "markdown",
   "id": "0492af0a",
   "metadata": {},
   "source": [
    "Firstly let us load the dataset"
   ]
  },
  {
   "cell_type": "code",
   "execution_count": 2,
   "id": "c278334b",
   "metadata": {},
   "outputs": [],
   "source": [
    "import numpy as np"
   ]
  },
  {
   "cell_type": "code",
   "execution_count": 4,
   "id": "4b0c3713",
   "metadata": {},
   "outputs": [
    {
     "data": {
      "text/plain": [
       "(15, 4)"
      ]
     },
     "execution_count": 4,
     "metadata": {},
     "output_type": "execute_result"
    }
   ],
   "source": [
    "cric_data = np.loadtxt(\"/home/mona/Desktop/cric_data.tsv\", skiprows=1)\n",
    "cric_data.shape"
   ]
  },
  {
   "cell_type": "code",
   "execution_count": 8,
   "id": "66a9e040",
   "metadata": {},
   "outputs": [
    {
     "name": "stdout",
     "output_type": "stream",
     "text": [
      "[[  0. 100.  78. 342.]\n",
      " [  1.  11.  62. 191.]\n",
      " [  2.   8.  85. 252.]\n",
      " [  3.  71.  24. 307.]\n",
      " [  4. 104.  17. 229.]\n",
      " [  5.  18. 104. 246.]\n",
      " [  6.   8.  76. 226.]\n",
      " [  7.  86.  74. 288.]\n",
      " [  8.  12.  60. 216.]\n",
      " [  9.  25.  90. 304.]\n",
      " [ 10.  56.   6. 272.]\n",
      " [ 11.  88.  69. 302.]\n",
      " [ 12. 147.  65. 312.]\n",
      " [ 13. 121. 146. 370.]\n",
      " [ 15.  99. 110. 362.]]\n"
     ]
    }
   ],
   "source": [
    "print(cric_data)"
   ]
  },
  {
   "cell_type": "markdown",
   "id": "c1e2d2cc",
   "metadata": {},
   "source": [
    "Printing all the values in that particular column"
   ]
  },
  {
   "cell_type": "code",
   "execution_count": 5,
   "id": "b15f24af",
   "metadata": {},
   "outputs": [],
   "source": [
    "Sachin = cric_data[:,1]\n",
    "Dravid = cric_data[:,2]\n",
    "India  = cric_data[:,3]"
   ]
  },
  {
   "cell_type": "code",
   "execution_count": 7,
   "id": "a1a3de0a",
   "metadata": {},
   "outputs": [
    {
     "name": "stdout",
     "output_type": "stream",
     "text": [
      "[100.  11.   8.  71. 104.  18.   8.  86.  12.  25.  56.  88. 147. 121.\n",
      "  99.]\n",
      "[ 78.  62.  85.  24.  17. 104.  76.  74.  60.  90.   6.  69.  65. 146.\n",
      " 110.]\n",
      "[342. 191. 252. 307. 229. 246. 226. 288. 216. 304. 272. 302. 312. 370.\n",
      " 362.]\n"
     ]
    }
   ],
   "source": [
    "print(Sachin)\n",
    "print(Dravid)\n",
    "print(India)"
   ]
  },
  {
   "cell_type": "code",
   "execution_count": 9,
   "id": "d81345a7",
   "metadata": {},
   "outputs": [],
   "source": [
    "def stats(col):\n",
    "    print('Mean', np.mean(col))\n",
    "    print('Median', np.median(col))"
   ]
  },
  {
   "cell_type": "code",
   "execution_count": 10,
   "id": "578d981b",
   "metadata": {},
   "outputs": [
    {
     "name": "stdout",
     "output_type": "stream",
     "text": [
      "Mean 63.6\n",
      "Median 71.0\n",
      "Mean 71.06666666666666\n",
      "Median 74.0\n",
      "Mean 281.26666666666665\n",
      "Median 288.0\n"
     ]
    }
   ],
   "source": [
    "stats(Sachin)\n",
    "stats(Dravid)\n",
    "stats(India)"
   ]
  },
  {
   "cell_type": "markdown",
   "id": "2101cd1f",
   "metadata": {},
   "source": [
    "How many centuries did Sachin and Dravid Score?\n",
    "\n",
    "Using the count_nonzero method(condition) we can find a count of elements that satisfy a given condition."
   ]
  },
  {
   "cell_type": "code",
   "execution_count": 11,
   "id": "c22959a1",
   "metadata": {
    "scrolled": true
   },
   "outputs": [
    {
     "name": "stdout",
     "output_type": "stream",
     "text": [
      "4\n",
      "3\n"
     ]
    }
   ],
   "source": [
    "print(np.count_nonzero(Sachin>99))\n",
    "\n",
    "print(np.count_nonzero(Dravid>99))"
   ]
  },
  {
   "cell_type": "markdown",
   "id": "c530c4a8",
   "metadata": {},
   "source": [
    "How many matches did Sachin and Dravid take to reach 500 runs?\n",
    "\n",
    "\n",
    "\n",
    "We can use the concept of cumulative sum to solve this question. The method np.cumsum(array) would perform the cumulative sum of all elements in the array. Example: a=[1,2,3,4].\n",
    "np.cumsum(a) will return [1,3,6,10]"
   ]
  },
  {
   "cell_type": "code",
   "execution_count": 13,
   "id": "5cf5ff62",
   "metadata": {},
   "outputs": [
    {
     "name": "stdout",
     "output_type": "stream",
     "text": [
      "[100. 111. 119. 190. 294. 312. 320. 406. 418. 443. 499. 587. 734. 855.\n",
      " 954.]\n"
     ]
    }
   ],
   "source": [
    "sachin_cumscores = np.cumsum(Sachin)\n",
    "print(sachin_cumscores)"
   ]
  },
  {
   "cell_type": "code",
   "execution_count": 15,
   "id": "04f5a5e5",
   "metadata": {},
   "outputs": [
    {
     "data": {
      "text/plain": [
       "11"
      ]
     },
     "execution_count": 15,
     "metadata": {},
     "output_type": "execute_result"
    }
   ],
   "source": [
    "np.searchsorted(sachin_cumscores, 500)"
   ]
  },
  {
   "cell_type": "markdown",
   "id": "3ebfd8a5",
   "metadata": {},
   "source": [
    "# We have a list of dictionaries and we had to write/code functions to do certain things."
   ]
  },
  {
   "cell_type": "code",
   "execution_count": 1,
   "id": "2e6535f2",
   "metadata": {},
   "outputs": [],
   "source": [
    "# Dictionary of movies\n",
    "\n",
    "movies = [\n",
    "{\n",
    "\"name\": \"Usual Suspects\", \n",
    "\"imdb\": 7.0,\n",
    "\"category\": \"Thriller\"\n",
    "},\n",
    "{\n",
    "\"name\": \"Hitman\",\n",
    "\"imdb\": 6.3,\n",
    "\"category\": \"Action\"\n",
    "},\n",
    "{\n",
    "\"name\": \"Dark Knight\",\n",
    "\"imdb\": 9.0,\n",
    "\"category\": \"Adventure\"\n",
    "},\n",
    "{\n",
    "\"name\": \"The Help\",\n",
    "\"imdb\": 8.0,\n",
    "\"category\": \"Drama\"\n",
    "},\n",
    "{\n",
    "\"name\": \"The Choice\",\n",
    "\"imdb\": 6.2,\n",
    "\"category\": \"Romance\"\n",
    "},\n",
    "{\n",
    "\"name\": \"Colonia\",\n",
    "\"imdb\": 7.4,\n",
    "\"category\": \"Romance\"\n",
    "},\n",
    "{\n",
    "\"name\": \"Love\",\n",
    "\"imdb\": 6.0,\n",
    "\"category\": \"Romance\"\n",
    "},\n",
    "{\n",
    "\"name\": \"Bride Wars\",\n",
    "\"imdb\": 5.4,\n",
    "\"category\": \"Romance\"\n",
    "},\n",
    "{\n",
    "\"name\": \"AlphaJet\",\n",
    "\"imdb\": 3.2,\n",
    "\"category\": \"War\"\n",
    "},\n",
    "{\n",
    "\"name\": \"Ringing Crime\",\n",
    "\"imdb\": 4.0,\n",
    "\"category\": \"Crime\"\n",
    "},\n",
    "{\n",
    "\"name\": \"Joking muck\",\n",
    "\"imdb\": 7.2,\n",
    "\"category\": \"Comedy\"\n",
    "},\n",
    "{\n",
    "\"name\": \"What is the name\",\n",
    "\"imdb\": 9.2,\n",
    "\"category\": \"Suspense\"\n",
    "},\n",
    "{\n",
    "\"name\": \"Detective\",\n",
    "\"imdb\": 7.0,\n",
    "\"category\": \"Suspense\"\n",
    "},\n",
    "{\n",
    "\"name\": \"Exam\",\n",
    "\"imdb\": 4.2,\n",
    "\"category\": \"Thriller\"\n",
    "},\n",
    "{\n",
    "\"name\": \"We Two\",\n",
    "\"imdb\": 7.2,\n",
    "\"category\": \"Romance\"\n",
    "}\n",
    "]\n"
   ]
  },
  {
   "cell_type": "markdown",
   "id": "9a8c07cc",
   "metadata": {},
   "source": [
    "Question 1: Write a function that takes a single movie and returns True if its IMDB score is above 5.5"
   ]
  },
  {
   "cell_type": "code",
   "execution_count": 2,
   "id": "e4377b69",
   "metadata": {},
   "outputs": [],
   "source": [
    "def single_score(movie):\n",
    "    for m in movies:\n",
    "        if m[\"name\"] == movie and m[\"imdb\"] > 5.5:\n",
    "            imdb_score = True \n",
    "        elif m[\"name\"] == movie and m[\"imdb\"] < 5.5:\n",
    "            imdb_score = \"Sorry, score less than 5.5\"\n",
    "    return imdb_score"
   ]
  },
  {
   "cell_type": "code",
   "execution_count": 4,
   "id": "af17a6e0",
   "metadata": {},
   "outputs": [
    {
     "data": {
      "text/plain": [
       "'Sorry, score less than 5.5'"
      ]
     },
     "execution_count": 4,
     "metadata": {},
     "output_type": "execute_result"
    }
   ],
   "source": [
    "single_score(\"Exam\")"
   ]
  },
  {
   "cell_type": "markdown",
   "id": "b4402792",
   "metadata": {},
   "source": [
    "Question 2: Write a function that returns a sublist of movies with an IMDB score above 5.5"
   ]
  },
  {
   "cell_type": "code",
   "execution_count": 21,
   "id": "1652d05b",
   "metadata": {},
   "outputs": [],
   "source": [
    "def movies_above(movies):\n",
    "    movies_above = []\n",
    "    for m in movies:\n",
    "        if m[\"imdb\"] > 5.5:\n",
    "            movies_above.append(m[\"name\"])\n",
    "    return movies_above"
   ]
  },
  {
   "cell_type": "code",
   "execution_count": 22,
   "id": "5c237586",
   "metadata": {},
   "outputs": [
    {
     "data": {
      "text/plain": [
       "['Usual Suspects',\n",
       " 'Hitman',\n",
       " 'Dark Knight',\n",
       " 'The Help',\n",
       " 'The Choice',\n",
       " 'Colonia',\n",
       " 'Love',\n",
       " 'Joking muck',\n",
       " 'What is the name',\n",
       " 'Detective',\n",
       " 'We Two']"
      ]
     },
     "execution_count": 22,
     "metadata": {},
     "output_type": "execute_result"
    }
   ],
   "source": [
    "movies_above(movies)"
   ]
  },
  {
   "cell_type": "markdown",
   "id": "efb09b7f",
   "metadata": {},
   "source": [
    "Question 3: Write a function that takes a list of movies and computes the average IMDB score."
   ]
  },
  {
   "cell_type": "code",
   "execution_count": 23,
   "id": "610c8bbe",
   "metadata": {},
   "outputs": [],
   "source": [
    "def movies_average_score(movies_list):\n",
    "    movies_scores = []\n",
    "    for movie in movies_list:\n",
    "        score = movie[\"imdb\"]\n",
    "        movies_scores.append(score)\n",
    "    average_score = sum(movies_scores) / len(movies_scores)\n",
    "    return average_score"
   ]
  },
  {
   "cell_type": "code",
   "execution_count": 24,
   "id": "d3f72900",
   "metadata": {},
   "outputs": [
    {
     "name": "stdout",
     "output_type": "stream",
     "text": [
      "6.486666666666667\n"
     ]
    }
   ],
   "source": [
    "average_score_all_movies = movies_average_score(movies)\n",
    "print(average_score_all_movies)"
   ]
  },
  {
   "cell_type": "markdown",
   "id": "e7176031",
   "metadata": {},
   "source": [
    "Question 4: Write a function that takes a category name and returns just those movies under that category"
   ]
  },
  {
   "cell_type": "code",
   "execution_count": 25,
   "id": "15f3ee39",
   "metadata": {},
   "outputs": [],
   "source": [
    "def movies_category(category):\n",
    "    movies_category = []\n",
    "    for m in movies:\n",
    "        if m[\"category\"] == category:\n",
    "            movies_category.append(m[\"name\"])\n",
    "    return movies_category"
   ]
  },
  {
   "cell_type": "code",
   "execution_count": 27,
   "id": "4faa5bd6",
   "metadata": {},
   "outputs": [
    {
     "data": {
      "text/plain": [
       "['The Choice', 'Colonia', 'Love', 'Bride Wars', 'We Two']"
      ]
     },
     "execution_count": 27,
     "metadata": {},
     "output_type": "execute_result"
    }
   ],
   "source": [
    "movies_category(\"Romance\")"
   ]
  },
  {
   "cell_type": "code",
   "execution_count": 28,
   "id": "8af5713d",
   "metadata": {},
   "outputs": [
    {
     "data": {
      "text/plain": [
       "['Usual Suspects', 'Exam']"
      ]
     },
     "execution_count": 28,
     "metadata": {},
     "output_type": "execute_result"
    }
   ],
   "source": [
    "movies_category(\"Thriller\")"
   ]
  },
  {
   "cell_type": "markdown",
   "id": "d073f8a5",
   "metadata": {},
   "source": [
    "# Data Analysis with Python"
   ]
  },
  {
   "cell_type": "code",
   "execution_count": null,
   "id": "ebc196ef",
   "metadata": {},
   "outputs": [],
   "source": [
    "# Numpy (data import, manipulation, export)\n",
    "import numpy as np\n",
    "# Matplotlib (create trends)\n",
    "import matplotlib.pyplot as plt\n",
    "\n",
    "# load the data file\n",
    "data_file = np.genfromtxt('/home/mona/Downloads/python_data_analysis/data_file.txt', delimiter=',')"
   ]
  },
  {
   "cell_type": "code",
   "execution_count": 37,
   "id": "40a90d9b",
   "metadata": {},
   "outputs": [],
   "source": [
    "# create time vector from imported data (starts from index 0)\n",
    "time = data_file[:,0]\n",
    "# parse good sensor data from imported data\n",
    "sensors = data_file[:,1:5]"
   ]
  },
  {
   "cell_type": "code",
   "execution_count": 31,
   "id": "369f6c3b",
   "metadata": {},
   "outputs": [
    {
     "name": "stdout",
     "output_type": "stream",
     "text": [
      "[[406.82111396 414.7304     373.12644278 375.74923062]\n",
      " [393.77960451 390.7304     363.56892074 365.36461518]\n",
      " [370.95696296 378.7304     360.38308006 358.44153823]\n",
      " [362.80601956 378.7304     360.38308006 353.24923051]\n",
      " [369.32677428 390.7304     363.56892074 358.44153823]\n",
      " [392.14941583 402.7304     376.31228346 368.82615366]]\n"
     ]
    }
   ],
   "source": [
    "# display the first 6 sensor rows\n",
    "print(sensors[0:6])"
   ]
  },
  {
   "cell_type": "code",
   "execution_count": 43,
   "id": "d52b328d",
   "metadata": {},
   "outputs": [],
   "source": [
    "# adjust time to start at zero by subtracting the\n",
    "#  first element in the time vector (index = 0)\n",
    "time = time - time[0]\n",
    "\n",
    "# calculate the average of the sensor readings, for each time point\n",
    "# averaging over the rows\n",
    "avg = np.mean(sensors,axis = 1) # over the 2nd dimension"
   ]
  },
  {
   "cell_type": "code",
   "execution_count": 44,
   "id": "56adeaa0",
   "metadata": {},
   "outputs": [
    {
     "name": "stdout",
     "output_type": "stream",
     "text": [
      "[392.60679684 378.36088511 367.12799531 ... 383.32549168 376.12148434\n",
      " 381.5481332 ]\n"
     ]
    }
   ],
   "source": [
    "print(avg)"
   ]
  },
  {
   "cell_type": "code",
   "execution_count": 46,
   "id": "beb810b9",
   "metadata": {},
   "outputs": [
    {
     "name": "stdout",
     "output_type": "stream",
     "text": [
      "[[406.82111396 393.77960451 370.95696296 ... 386.47771769 384.84752901\n",
      "  391.36828374]\n",
      " [414.7304     390.7304     378.7304     ... 411.7304     387.7304\n",
      "  399.7304    ]\n",
      " [373.12644278 363.56892074 360.38308006 ... 369.38308006 366.19723938\n",
      "  369.38308006]\n",
      " [375.74923062 365.36461518 358.44153823 ... 365.71076899 365.71076899\n",
      "  365.71076899]]\n"
     ]
    }
   ],
   "source": [
    "print(sensors.T)"
   ]
  },
  {
   "cell_type": "code",
   "execution_count": 47,
   "id": "2daf9542",
   "metadata": {},
   "outputs": [
    {
     "name": "stdout",
     "output_type": "stream",
     "text": [
      "[0.00000000e+00 9.99000072e-01 2.98600006e+00 ... 1.73854300e+03\n",
      " 1.73954200e+03 1.74084800e+03]\n"
     ]
    }
   ],
   "source": [
    "print(time)"
   ]
  },
  {
   "cell_type": "markdown",
   "id": "653066e0",
   "metadata": {},
   "source": [
    "Need to vetically stack first time as a row vector, sensors being a column, transpose as row and average\n",
    "\n",
    "\n",
    "sensors is in the form ----\n",
    "                       ----\n",
    "                       ----\n",
    "                       ----\n",
    " Therefore they have to be transposed: -------------------------------   \n",
    "                                       -------------------------------\n",
    "                                       --------------------------------\n",
    "                                       -------------------------------\n",
    " "
   ]
  },
  {
   "cell_type": "code",
   "execution_count": 33,
   "id": "39e81803",
   "metadata": {},
   "outputs": [],
   "source": [
    "# export data\n",
    "# stack time and avg as column vectors\n",
    "my_data = np.vstack((time,sensors.T,avg))\n",
    "# transpose data\n",
    "my_data = my_data.T\n",
    "# save text file with comma delimiter\n",
    "np.savetxt('export_from_python.txt',my_data,delimiter=',')"
   ]
  },
  {
   "cell_type": "code",
   "execution_count": 42,
   "id": "64ea95a4",
   "metadata": {},
   "outputs": [
    {
     "data": {
      "image/png": "[encoded data removed]",
      "text/plain": [
       "<Figure size 432x288 with 1 Axes>"
      ]
     },
     "metadata": {
      "needs_background": "light"
     },
     "output_type": "display_data"
    }
   ],
   "source": [
    "# generate a figure\n",
    "plt.figure(1)\n",
    "plt.plot(time/60.0,sensors[:,1],'ro') #2nd sensors\n",
    "plt.plot(time/60.0,avg,'b.')\n",
    "# add text labels to the plot\n",
    "plt.legend(['Sensor 2','Average Sensors 1-4'])\n",
    "plt.xlabel('Time (min)')\n",
    "plt.ylabel('Sensor Values')\n",
    "# save the figure as a PNG file\n",
    "plt.savefig('my_Python_plot.png')\n",
    "# show the figure on the screen (pauses execution until closed)\n",
    "plt.show()\n"
   ]
  },
  {
   "cell_type": "code",
   "execution_count": null,
   "id": "4f01a28b",
   "metadata": {},
   "outputs": [],
   "source": []
  }
 ],
 "metadata": {
  "kernelspec": {
   "display_name": "Python 3",
   "language": "python",
   "name": "python3"
  },
  "language_info": {
   "codemirror_mode": {
    "name": "ipython",
    "version": 3
   },
   "file_extension": ".py",
   "mimetype": "text/x-python",
   "name": "python",
   "nbconvert_exporter": "python",
   "pygments_lexer": "ipython3",
   "version": "3.8.8"
  }
 },
 "nbformat": 4,
 "nbformat_minor": 5
}
